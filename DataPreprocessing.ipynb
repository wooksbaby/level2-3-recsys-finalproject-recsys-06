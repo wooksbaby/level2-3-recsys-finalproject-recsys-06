{
 "cells": [
  {
   "cell_type": "code",
   "execution_count": 31,
   "metadata": {},
   "outputs": [],
   "source": [
    "import pandas as pd\n",
    "import json\n",
    "import numpy as np\n",
    "import matplotlib.pyplot as plt\n",
    "import seaborn as sns\n",
    "from sklearn.linear_model import LinearRegression\n",
    "import re\n",
    "from gensim.models import FastText\n",
    "import os\n",
    "from konlpy.tag import Okt\n",
    "\n",
    "\n"
   ]
  },
  {
   "cell_type": "code",
   "execution_count": 32,
   "metadata": {},
   "outputs": [],
   "source": [
    "# 각자의 Ctee 폴더 경로\n",
    "my_dir = '/home/wooksbaby/boostcamp6th/'"
   ]
  },
  {
   "cell_type": "code",
   "execution_count": 33,
   "metadata": {},
   "outputs": [],
   "source": [
    "items_df = pd.read_json(my_dir + \"20240308-data/items.json\")  # 콘텐츠\n",
    "events_df = pd.read_json(my_dir + \"20240308-data/event_projects.json\")  # 행사/이벤트\n",
    "cats_df = pd.read_json(my_dir + \"20240219-data/categories_events.json\")  # 이벤트 분류기준\n",
    "stores_df = pd.read_json(my_dir + \"20240219-data/stores.json\")  # 크리에이터 스토어\n",
    "\n",
    "funnels_df = pd.read_json(my_dir + \"20240221-data/funnels.json\")  # 유입경로\n",
    "orders_df = pd.read_json(my_dir + \"20240308-data/orders_items.json\")  # 구매데이터\n",
    "subs_df = pd.read_json(my_dir + \"20240221-data/user_subscribes.json\")  # 구독정보\n",
    "\n",
    "items_tag_df = pd.read_json(my_dir + \"CteeEDA/tag_output_items.json\")  # 구독정보\n",
    "stores_tag_df = pd.read_json(my_dir + \"CteeEDA/tag_output_stores.json\")  # 구독정보\n"
   ]
  },
  {
   "cell_type": "code",
   "execution_count": 34,
   "metadata": {},
   "outputs": [],
   "source": [
    "items_df = items_df.drop_duplicates()\n",
    "stores_df = stores_df.drop_duplicates()\n",
    "items_tag_df = items_tag_df.drop_duplicates()\n",
    "stores_tag_df = stores_tag_df.drop_duplicates()"
   ]
  },
  {
   "cell_type": "code",
   "execution_count": 35,
   "metadata": {},
   "outputs": [
    {
     "data": {
      "text/plain": [
       "Index(['id', 'title', 'content', 'alias', 'view_count', 'sales_volume',\n",
       "       'donation_count', 'created_at', 'updated_at'],\n",
       "      dtype='object')"
      ]
     },
     "execution_count": 35,
     "metadata": {},
     "output_type": "execute_result"
    }
   ],
   "source": [
    "items_tag_df.columns\n",
    "stores_tag_df.columns\n",
    "items_df.columns\n",
    "stores_df.columns\n"
   ]
  },
  {
   "cell_type": "code",
   "execution_count": 36,
   "metadata": {},
   "outputs": [],
   "source": [
    "items_df = items_df.rename(columns={\n",
    "    'id': 'item_id'\n",
    "})\n",
    "stores_df = stores_df.rename(columns={\n",
    "    'id': 'store_id'\n",
    "})\n",
    "items_tag_df = items_tag_df.rename(columns={\n",
    "    'id': 'item_id'\n",
    "})"
   ]
  },
  {
   "cell_type": "code",
   "execution_count": 37,
   "metadata": {},
   "outputs": [
    {
     "data": {
      "text/plain": [
       "Index(['item_id', 'tags', 'category', 'categories'], dtype='object')"
      ]
     },
     "execution_count": 37,
     "metadata": {},
     "output_type": "execute_result"
    }
   ],
   "source": [
    "items_tag_df.columns\n"
   ]
  },
  {
   "cell_type": "code",
   "execution_count": 38,
   "metadata": {},
   "outputs": [],
   "source": [
    "merged_items_df = pd.merge(items_df, items_tag_df, on='item_id',how='left')\n",
    "merged_stores_df = pd.merge(stores_df, stores_tag_df, on='store_id',how='left')"
   ]
  },
  {
   "cell_type": "code",
   "execution_count": 39,
   "metadata": {},
   "outputs": [
    {
     "data": {
      "text/plain": [
       "Index(['item_id', 'store_id', 'simple_contents', 'content', 'story',\n",
       "       'product_category_type', 'currency_code', 'price', 'discount_price',\n",
       "       'discount_started_at', 'discount_ended_at', 'is_adult', 'order_number',\n",
       "       'sales_count', 'view_count', 'comment_count', 'created_at',\n",
       "       'updated_at', 'tags', 'category', 'categories'],\n",
       "      dtype='object')"
      ]
     },
     "execution_count": 39,
     "metadata": {},
     "output_type": "execute_result"
    }
   ],
   "source": [
    "merged_items_df.columns"
   ]
  },
  {
   "cell_type": "code",
   "execution_count": 40,
   "metadata": {},
   "outputs": [
    {
     "data": {
      "text/plain": [
       "Index(['store_id', 'title', 'content', 'alias', 'view_count', 'sales_volume',\n",
       "       'donation_count', 'created_at', 'updated_at', 'tags', 'category'],\n",
       "      dtype='object')"
      ]
     },
     "execution_count": 40,
     "metadata": {},
     "output_type": "execute_result"
    }
   ],
   "source": [
    "merged_stores_df.columns"
   ]
  },
  {
   "cell_type": "code",
   "execution_count": 41,
   "metadata": {},
   "outputs": [],
   "source": [
    "selected_columns_items_df= merged_items_df[['item_id','store_id','content','price','is_adult','sales_count','view_count','tags','category']]"
   ]
  },
  {
   "cell_type": "code",
   "execution_count": 42,
   "metadata": {},
   "outputs": [],
   "source": [
    "selected_columns_stores_df= merged_stores_df[['store_id','content','view_count','sales_volume','tags','category']]"
   ]
  },
  {
   "cell_type": "code",
   "execution_count": 43,
   "metadata": {},
   "outputs": [],
   "source": [
    "selected_columns_items_df = selected_columns_items_df.rename(columns={\n",
    "    'id': 'item_id',\n",
    "    'simple_contents': 'item_simple_contents',\n",
    "    'content': 'item_content',\n",
    "    'story': 'item_story',\n",
    "    'category' : 'item_category'\n",
    "})"
   ]
  },
  {
   "cell_type": "code",
   "execution_count": null,
   "metadata": {},
   "outputs": [],
   "source": []
  },
  {
   "cell_type": "code",
   "execution_count": 44,
   "metadata": {},
   "outputs": [],
   "source": [
    "selected_columns_stores_df = selected_columns_stores_df.rename(columns={\n",
    "    'content': 'store_content',\n",
    "    'view_count': 'store_view_count',\n",
    "    'sales_volume': 'store_sales_volume',\n",
    "    'tags': 'store_tags',\n",
    "    'category': 'store_category'\n",
    "})"
   ]
  },
  {
   "cell_type": "code",
   "execution_count": 45,
   "metadata": {},
   "outputs": [
    {
     "data": {
      "text/html": [
       "<div>\n",
       "<style scoped>\n",
       "    .dataframe tbody tr th:only-of-type {\n",
       "        vertical-align: middle;\n",
       "    }\n",
       "\n",
       "    .dataframe tbody tr th {\n",
       "        vertical-align: top;\n",
       "    }\n",
       "\n",
       "    .dataframe thead th {\n",
       "        text-align: right;\n",
       "    }\n",
       "</style>\n",
       "<table border=\"1\" class=\"dataframe\">\n",
       "  <thead>\n",
       "    <tr style=\"text-align: right;\">\n",
       "      <th></th>\n",
       "      <th>item_id</th>\n",
       "      <th>store_id</th>\n",
       "      <th>item_content</th>\n",
       "      <th>price</th>\n",
       "      <th>is_adult</th>\n",
       "      <th>sales_count</th>\n",
       "      <th>view_count</th>\n",
       "      <th>tags</th>\n",
       "      <th>item_category</th>\n",
       "    </tr>\n",
       "  </thead>\n",
       "  <tbody>\n",
       "    <tr>\n",
       "      <th>0</th>\n",
       "      <td>3</td>\n",
       "      <td>2</td>\n",
       "      <td>안녕하세요, 그림 스피드페인팅 유튜버 노넴입니다 :)\\n\\n원하시는 컨셉에 맞춰 일...</td>\n",
       "      <td>20000</td>\n",
       "      <td>0</td>\n",
       "      <td>0</td>\n",
       "      <td>76</td>\n",
       "      <td>#일러스트#아트#그림</td>\n",
       "      <td>미술 ∙ 디자인, 영상 ∙ 사진</td>\n",
       "    </tr>\n",
       "    <tr>\n",
       "      <th>1</th>\n",
       "      <td>4</td>\n",
       "      <td>2</td>\n",
       "      <td>안녕하세요, 그림 스피드페인팅 유튜버 노넴입니다 :)\\n\\n원하시는 컨셉에 맞춰 일...</td>\n",
       "      <td>25000</td>\n",
       "      <td>0</td>\n",
       "      <td>0</td>\n",
       "      <td>64</td>\n",
       "      <td>#일러스트#아트#그림</td>\n",
       "      <td>미술 ∙ 디자인, 영상 ∙ 사진</td>\n",
       "    </tr>\n",
       "    <tr>\n",
       "      <th>2</th>\n",
       "      <td>5</td>\n",
       "      <td>2</td>\n",
       "      <td>안녕하세요, 그림 스피드페인팅 유튜버 노넴입니다 :)\\n\\n원하시는 컨셉에 맞춰 일...</td>\n",
       "      <td>30000</td>\n",
       "      <td>0</td>\n",
       "      <td>0</td>\n",
       "      <td>30</td>\n",
       "      <td>#일러스트#아트#그림</td>\n",
       "      <td>미술 ∙ 디자인, 영상 ∙ 사진</td>\n",
       "    </tr>\n",
       "    <tr>\n",
       "      <th>3</th>\n",
       "      <td>6</td>\n",
       "      <td>2</td>\n",
       "      <td>안녕하세요, 그림 스피드페인팅 유튜버 노넴입니다 :)\\n\\n원하시는 컨셉에 맞춰 일...</td>\n",
       "      <td>50000</td>\n",
       "      <td>0</td>\n",
       "      <td>0</td>\n",
       "      <td>40</td>\n",
       "      <td>#일러스트#아트#그림</td>\n",
       "      <td>미술 ∙ 디자인, 영상 ∙ 사진</td>\n",
       "    </tr>\n",
       "    <tr>\n",
       "      <th>4</th>\n",
       "      <td>7</td>\n",
       "      <td>3</td>\n",
       "      <td>안녕하세요, 관상가 화인입니다 :) \\n\\n비대면 시대에 꼭 어울리는 관상 콘텐츠를...</td>\n",
       "      <td>20000</td>\n",
       "      <td>0</td>\n",
       "      <td>9</td>\n",
       "      <td>415</td>\n",
       "      <td>#관상가#관상#비대면#상담</td>\n",
       "      <td>타로 ∙ 사주 ∙ 관상, 심리 ∙ 상담</td>\n",
       "    </tr>\n",
       "    <tr>\n",
       "      <th>...</th>\n",
       "      <td>...</td>\n",
       "      <td>...</td>\n",
       "      <td>...</td>\n",
       "      <td>...</td>\n",
       "      <td>...</td>\n",
       "      <td>...</td>\n",
       "      <td>...</td>\n",
       "      <td>...</td>\n",
       "      <td>...</td>\n",
       "    </tr>\n",
       "    <tr>\n",
       "      <th>18023</th>\n",
       "      <td>22217</td>\n",
       "      <td>7165</td>\n",
       "      <td></td>\n",
       "      <td>6800</td>\n",
       "      <td>0</td>\n",
       "      <td>0</td>\n",
       "      <td>0</td>\n",
       "      <td>#미포함#확성기#아이콘</td>\n",
       "      <td>기타</td>\n",
       "    </tr>\n",
       "    <tr>\n",
       "      <th>18024</th>\n",
       "      <td>22218</td>\n",
       "      <td>7165</td>\n",
       "      <td></td>\n",
       "      <td>4800</td>\n",
       "      <td>0</td>\n",
       "      <td>0</td>\n",
       "      <td>1</td>\n",
       "      <td>#미포함#손가락숫자</td>\n",
       "      <td>기타</td>\n",
       "    </tr>\n",
       "    <tr>\n",
       "      <th>18025</th>\n",
       "      <td>22219</td>\n",
       "      <td>7165</td>\n",
       "      <td></td>\n",
       "      <td>4800</td>\n",
       "      <td>0</td>\n",
       "      <td>0</td>\n",
       "      <td>0</td>\n",
       "      <td>#미포함#여자</td>\n",
       "      <td>기타</td>\n",
       "    </tr>\n",
       "    <tr>\n",
       "      <th>18026</th>\n",
       "      <td>22220</td>\n",
       "      <td>7165</td>\n",
       "      <td></td>\n",
       "      <td>4800</td>\n",
       "      <td>0</td>\n",
       "      <td>0</td>\n",
       "      <td>0</td>\n",
       "      <td>#미포함#남자</td>\n",
       "      <td>기타</td>\n",
       "    </tr>\n",
       "    <tr>\n",
       "      <th>18027</th>\n",
       "      <td>22221</td>\n",
       "      <td>7165</td>\n",
       "      <td></td>\n",
       "      <td>4800</td>\n",
       "      <td>0</td>\n",
       "      <td>0</td>\n",
       "      <td>0</td>\n",
       "      <td>#미포함#괴생물체</td>\n",
       "      <td>기타</td>\n",
       "    </tr>\n",
       "  </tbody>\n",
       "</table>\n",
       "<p>18028 rows × 9 columns</p>\n",
       "</div>"
      ],
      "text/plain": [
       "       item_id  store_id                                       item_content  \\\n",
       "0            3         2  안녕하세요, 그림 스피드페인팅 유튜버 노넴입니다 :)\\n\\n원하시는 컨셉에 맞춰 일...   \n",
       "1            4         2  안녕하세요, 그림 스피드페인팅 유튜버 노넴입니다 :)\\n\\n원하시는 컨셉에 맞춰 일...   \n",
       "2            5         2  안녕하세요, 그림 스피드페인팅 유튜버 노넴입니다 :)\\n\\n원하시는 컨셉에 맞춰 일...   \n",
       "3            6         2  안녕하세요, 그림 스피드페인팅 유튜버 노넴입니다 :)\\n\\n원하시는 컨셉에 맞춰 일...   \n",
       "4            7         3  안녕하세요, 관상가 화인입니다 :) \\n\\n비대면 시대에 꼭 어울리는 관상 콘텐츠를...   \n",
       "...        ...       ...                                                ...   \n",
       "18023    22217      7165                                                      \n",
       "18024    22218      7165                                                      \n",
       "18025    22219      7165                                                      \n",
       "18026    22220      7165                                                      \n",
       "18027    22221      7165                                                      \n",
       "\n",
       "       price  is_adult  sales_count  view_count            tags  \\\n",
       "0      20000         0            0          76     #일러스트#아트#그림   \n",
       "1      25000         0            0          64     #일러스트#아트#그림   \n",
       "2      30000         0            0          30     #일러스트#아트#그림   \n",
       "3      50000         0            0          40     #일러스트#아트#그림   \n",
       "4      20000         0            9         415  #관상가#관상#비대면#상담   \n",
       "...      ...       ...          ...         ...             ...   \n",
       "18023   6800         0            0           0    #미포함#확성기#아이콘   \n",
       "18024   4800         0            0           1      #미포함#손가락숫자   \n",
       "18025   4800         0            0           0         #미포함#여자   \n",
       "18026   4800         0            0           0         #미포함#남자   \n",
       "18027   4800         0            0           0       #미포함#괴생물체   \n",
       "\n",
       "               item_category  \n",
       "0          미술 ∙ 디자인, 영상 ∙ 사진  \n",
       "1          미술 ∙ 디자인, 영상 ∙ 사진  \n",
       "2          미술 ∙ 디자인, 영상 ∙ 사진  \n",
       "3          미술 ∙ 디자인, 영상 ∙ 사진  \n",
       "4      타로 ∙ 사주 ∙ 관상, 심리 ∙ 상담  \n",
       "...                      ...  \n",
       "18023                     기타  \n",
       "18024                     기타  \n",
       "18025                     기타  \n",
       "18026                     기타  \n",
       "18027                     기타  \n",
       "\n",
       "[18028 rows x 9 columns]"
      ]
     },
     "execution_count": 45,
     "metadata": {},
     "output_type": "execute_result"
    }
   ],
   "source": [
    "selected_columns_items_df"
   ]
  },
  {
   "cell_type": "code",
   "execution_count": 46,
   "metadata": {},
   "outputs": [],
   "source": [
    "# items_df['sales_value'] = items_df['sales_count'] * items_df['price']\n",
    "# sorted_items = items_df.sort_values(by='sales_value', ascending=False)\n",
    "\n",
    "# # 스토어의 총 판매량 ('sales_volume') 계산 후 내림차순으로 정렬\n",
    "# sorted_stores = stores_df.sort_values(by='sales_volume', ascending=False)\n",
    "\n",
    "# # 결과 출력 (여기서는 상위 5개 항목 예시)\n",
    "# print(sorted_items.head(20))\n",
    "# print(sorted_stores.head(20))"
   ]
  },
  {
   "cell_type": "code",
   "execution_count": 47,
   "metadata": {},
   "outputs": [],
   "source": [
    "selected_columns_stores_df.to_json('selected_columns_stores_df_with_tags.jsonl', orient='records',lines=True,force_ascii=False)\n",
    "selected_columns_items_df.to_json('selected_columns_items_df_with_tags.jsonl', orient='records',lines=True,force_ascii=False)\n"
   ]
  },
  {
   "cell_type": "code",
   "execution_count": 48,
   "metadata": {},
   "outputs": [
    {
     "data": {
      "text/plain": [
       "Index(['store_id', 'store_content', 'store_view_count', 'store_sales_volume',\n",
       "       'store_tags', 'store_category'],\n",
       "      dtype='object')"
      ]
     },
     "execution_count": 48,
     "metadata": {},
     "output_type": "execute_result"
    }
   ],
   "source": [
    "selected_columns_stores_df.columns"
   ]
  },
  {
   "cell_type": "code",
   "execution_count": 49,
   "metadata": {},
   "outputs": [
    {
     "data": {
      "text/plain": [
       "Index(['item_id', 'store_id', 'item_content', 'price', 'is_adult',\n",
       "       'sales_count', 'view_count', 'tags', 'item_category'],\n",
       "      dtype='object')"
      ]
     },
     "execution_count": 49,
     "metadata": {},
     "output_type": "execute_result"
    }
   ],
   "source": [
    "selected_columns_items_df.columns"
   ]
  }
 ],
 "metadata": {
  "kernelspec": {
   "display_name": "cteeeda-MuLfzU4q-py3.10",
   "language": "python",
   "name": "python3"
  },
  "language_info": {
   "codemirror_mode": {
    "name": "ipython",
    "version": 3
   },
   "file_extension": ".py",
   "mimetype": "text/x-python",
   "name": "python",
   "nbconvert_exporter": "python",
   "pygments_lexer": "ipython3",
   "version": "3.10.9"
  }
 },
 "nbformat": 4,
 "nbformat_minor": 2
}
